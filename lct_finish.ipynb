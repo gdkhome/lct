{
 "cells": [
  {
   "cell_type": "code",
   "execution_count": 1,
   "metadata": {},
   "outputs": [],
   "source": [
    "import pandas as pd\n",
    "import numpy as np\n",
    "import matplotlib.pyplot as plt\n",
    "import pyarrow.parquet as pq\n",
    "import json\n",
    "from tqdm import tqdm\n",
    "from typing import List\n",
    "from scipy.spatial.distance import cosine, euclidean\n",
    "from functools import partial\n",
    "from sklearn.metrics import pairwise_distances\n",
    "from sklearn.metrics import classification_report\n",
    "from sklearn.metrics import precision_recall_curve, auc\n",
    "\n"
   ]
  },
  {
   "cell_type": "code",
   "execution_count": null,
   "metadata": {},
   "outputs": [],
   "source": []
  },
  {
   "cell_type": "code",
   "execution_count": 3,
   "metadata": {},
   "outputs": [],
   "source": [
    "#train_pairs=pd.read_parquet('dataset_ds/train_pairs.parquet') #\n",
    "train_etl=pd.read_parquet('dataset_ds/train_data.parquet')\n",
    "test_pairs = pd.read_parquet(\"dataset_ds/test_pairs_wo_target.parquet\") #\n",
    "test_etl = pd.read_parquet(\"dataset_ds/test_data.parquet\")\n",
    "\n",
    "#train_pairs=pd.read_parquet('health_train_iter1.parquet')\n",
    "#train_adds=pd.read_parquet('new_pairs_w_target_iter2.parquet')\n",
    "#train_adds2=pd.read_parquet('add_train_iter3.parquet')\n",
    "#train_adds1=pd.read_parquet('train_adds_all_nr.parquet')\n",
    "#train_adds=pd.read_parquet('train_adds_all.parquet')\n",
    "\n",
    "train_pairs=pd.read_parquet('train_pairs_with_adds.parquet') # расширенный датасет\n",
    "\n",
    "\n",
    "\n"
   ]
  },
  {
   "cell_type": "code",
   "execution_count": 4,
   "metadata": {},
   "outputs": [
    {
     "data": {
      "text/html": [
       "<div>\n",
       "<style scoped>\n",
       "    .dataframe tbody tr th:only-of-type {\n",
       "        vertical-align: middle;\n",
       "    }\n",
       "\n",
       "    .dataframe tbody tr th {\n",
       "        vertical-align: top;\n",
       "    }\n",
       "\n",
       "    .dataframe thead th {\n",
       "        text-align: right;\n",
       "    }\n",
       "</style>\n",
       "<table border=\"1\" class=\"dataframe\">\n",
       "  <thead>\n",
       "    <tr style=\"text-align: right;\">\n",
       "      <th></th>\n",
       "      <th>variantid1</th>\n",
       "      <th>variantid2</th>\n",
       "      <th>cat3_grouped</th>\n",
       "      <th>target</th>\n",
       "    </tr>\n",
       "  </thead>\n",
       "  <tbody>\n",
       "    <tr>\n",
       "      <th>1035</th>\n",
       "      <td>246819473</td>\n",
       "      <td>481441652</td>\n",
       "      <td>Смартфоны, планшеты, мобильные телефоны</td>\n",
       "      <td>0.0</td>\n",
       "    </tr>\n",
       "    <tr>\n",
       "      <th>1453</th>\n",
       "      <td>667246761</td>\n",
       "      <td>688358054</td>\n",
       "      <td>Смартфоны, планшеты, мобильные телефоны</td>\n",
       "      <td>0.0</td>\n",
       "    </tr>\n",
       "    <tr>\n",
       "      <th>2430</th>\n",
       "      <td>186874171</td>\n",
       "      <td>527258028</td>\n",
       "      <td>Расходник для печати</td>\n",
       "      <td>0.0</td>\n",
       "    </tr>\n",
       "    <tr>\n",
       "      <th>2543</th>\n",
       "      <td>554977191</td>\n",
       "      <td>703443974</td>\n",
       "      <td>Смартфоны, планшеты, мобильные телефоны</td>\n",
       "      <td>1.0</td>\n",
       "    </tr>\n",
       "    <tr>\n",
       "      <th>2766</th>\n",
       "      <td>563070850</td>\n",
       "      <td>588397077</td>\n",
       "      <td>Кабели и переходники</td>\n",
       "      <td>0.0</td>\n",
       "    </tr>\n",
       "    <tr>\n",
       "      <th>2810</th>\n",
       "      <td>623124310</td>\n",
       "      <td>672965259</td>\n",
       "      <td>Наушники и гарнитуры</td>\n",
       "      <td>1.0</td>\n",
       "    </tr>\n",
       "    <tr>\n",
       "      <th>3108</th>\n",
       "      <td>261788606</td>\n",
       "      <td>465201788</td>\n",
       "      <td>Смартфоны, планшеты, мобильные телефоны</td>\n",
       "      <td>0.0</td>\n",
       "    </tr>\n",
       "    <tr>\n",
       "      <th>3147</th>\n",
       "      <td>92390514</td>\n",
       "      <td>615491224</td>\n",
       "      <td>Расходник для печати</td>\n",
       "      <td>0.0</td>\n",
       "    </tr>\n",
       "    <tr>\n",
       "      <th>3295</th>\n",
       "      <td>463679888</td>\n",
       "      <td>551014265</td>\n",
       "      <td>Компьютер</td>\n",
       "      <td>0.0</td>\n",
       "    </tr>\n",
       "    <tr>\n",
       "      <th>3365</th>\n",
       "      <td>369693751</td>\n",
       "      <td>599170053</td>\n",
       "      <td>Оптические приборы</td>\n",
       "      <td>1.0</td>\n",
       "    </tr>\n",
       "    <tr>\n",
       "      <th>4062</th>\n",
       "      <td>656993629</td>\n",
       "      <td>680366141</td>\n",
       "      <td>Акустика и колонки</td>\n",
       "      <td>1.0</td>\n",
       "    </tr>\n",
       "    <tr>\n",
       "      <th>4094</th>\n",
       "      <td>371992664</td>\n",
       "      <td>564086149</td>\n",
       "      <td>Компьютер</td>\n",
       "      <td>0.0</td>\n",
       "    </tr>\n",
       "    <tr>\n",
       "      <th>4723</th>\n",
       "      <td>133727920</td>\n",
       "      <td>376275985</td>\n",
       "      <td>Устройство ручного ввода</td>\n",
       "      <td>0.0</td>\n",
       "    </tr>\n",
       "    <tr>\n",
       "      <th>5432</th>\n",
       "      <td>336435481</td>\n",
       "      <td>432545720</td>\n",
       "      <td>Расходник для печати</td>\n",
       "      <td>0.0</td>\n",
       "    </tr>\n",
       "    <tr>\n",
       "      <th>6050</th>\n",
       "      <td>633399843</td>\n",
       "      <td>633423274</td>\n",
       "      <td>Сетевые фильтры, разветвители и удлинители</td>\n",
       "      <td>0.0</td>\n",
       "    </tr>\n",
       "    <tr>\n",
       "      <th>6337</th>\n",
       "      <td>412297708</td>\n",
       "      <td>567698766</td>\n",
       "      <td>Устройство ручного ввода</td>\n",
       "      <td>1.0</td>\n",
       "    </tr>\n",
       "    <tr>\n",
       "      <th>6977</th>\n",
       "      <td>90603554</td>\n",
       "      <td>703848047</td>\n",
       "      <td>Рюкзаки, чехлы, сумки</td>\n",
       "      <td>1.0</td>\n",
       "    </tr>\n",
       "    <tr>\n",
       "      <th>7209</th>\n",
       "      <td>504143079</td>\n",
       "      <td>529244253</td>\n",
       "      <td>Кабели и переходники</td>\n",
       "      <td>0.0</td>\n",
       "    </tr>\n",
       "    <tr>\n",
       "      <th>7893</th>\n",
       "      <td>231973475</td>\n",
       "      <td>434926289</td>\n",
       "      <td>Акустика и колонки</td>\n",
       "      <td>1.0</td>\n",
       "    </tr>\n",
       "    <tr>\n",
       "      <th>7982</th>\n",
       "      <td>245324140</td>\n",
       "      <td>325256775</td>\n",
       "      <td>Акустика и колонки</td>\n",
       "      <td>1.0</td>\n",
       "    </tr>\n",
       "    <tr>\n",
       "      <th>8489</th>\n",
       "      <td>160978312</td>\n",
       "      <td>373954427</td>\n",
       "      <td>ИБП</td>\n",
       "      <td>1.0</td>\n",
       "    </tr>\n",
       "    <tr>\n",
       "      <th>9637</th>\n",
       "      <td>89666253</td>\n",
       "      <td>89677690</td>\n",
       "      <td>Компьютер</td>\n",
       "      <td>0.0</td>\n",
       "    </tr>\n",
       "    <tr>\n",
       "      <th>11689</th>\n",
       "      <td>53928098</td>\n",
       "      <td>490498054</td>\n",
       "      <td>Расходник для печати</td>\n",
       "      <td>1.0</td>\n",
       "    </tr>\n",
       "    <tr>\n",
       "      <th>11697</th>\n",
       "      <td>160440458</td>\n",
       "      <td>330641179</td>\n",
       "      <td>Смартфоны, планшеты, мобильные телефоны</td>\n",
       "      <td>0.0</td>\n",
       "    </tr>\n",
       "    <tr>\n",
       "      <th>14025</th>\n",
       "      <td>468774842</td>\n",
       "      <td>703809292</td>\n",
       "      <td>Кабели и переходники</td>\n",
       "      <td>1.0</td>\n",
       "    </tr>\n",
       "    <tr>\n",
       "      <th>14305</th>\n",
       "      <td>445425564</td>\n",
       "      <td>445534400</td>\n",
       "      <td>Запчасти для ноутбуков</td>\n",
       "      <td>0.0</td>\n",
       "    </tr>\n",
       "    <tr>\n",
       "      <th>15544</th>\n",
       "      <td>575916743</td>\n",
       "      <td>575917864</td>\n",
       "      <td>Зарядные устройства и док-станции</td>\n",
       "      <td>0.0</td>\n",
       "    </tr>\n",
       "    <tr>\n",
       "      <th>15953</th>\n",
       "      <td>195303561</td>\n",
       "      <td>280667737</td>\n",
       "      <td>Смартфоны, планшеты, мобильные телефоны</td>\n",
       "      <td>1.0</td>\n",
       "    </tr>\n",
       "    <tr>\n",
       "      <th>15992</th>\n",
       "      <td>241226409</td>\n",
       "      <td>304478365</td>\n",
       "      <td>Кабели и переходники</td>\n",
       "      <td>0.0</td>\n",
       "    </tr>\n",
       "    <tr>\n",
       "      <th>16210</th>\n",
       "      <td>286890187</td>\n",
       "      <td>620020474</td>\n",
       "      <td>Акустика и колонки</td>\n",
       "      <td>1.0</td>\n",
       "    </tr>\n",
       "    <tr>\n",
       "      <th>16310</th>\n",
       "      <td>375600423</td>\n",
       "      <td>487627074</td>\n",
       "      <td>Наушники и гарнитуры</td>\n",
       "      <td>1.0</td>\n",
       "    </tr>\n",
       "    <tr>\n",
       "      <th>16524</th>\n",
       "      <td>615190839</td>\n",
       "      <td>615193347</td>\n",
       "      <td>Смартфоны, планшеты, мобильные телефоны</td>\n",
       "      <td>0.0</td>\n",
       "    </tr>\n",
       "    <tr>\n",
       "      <th>16845</th>\n",
       "      <td>642233400</td>\n",
       "      <td>642234890</td>\n",
       "      <td>Смартфоны, планшеты, мобильные телефоны</td>\n",
       "      <td>0.0</td>\n",
       "    </tr>\n",
       "    <tr>\n",
       "      <th>17145</th>\n",
       "      <td>89619377</td>\n",
       "      <td>89619845</td>\n",
       "      <td>Компьютер</td>\n",
       "      <td>0.0</td>\n",
       "    </tr>\n",
       "  </tbody>\n",
       "</table>\n",
       "</div>"
      ],
      "text/plain": [
       "       variantid1  variantid2                                cat3_grouped  \\\n",
       "1035    246819473   481441652     Смартфоны, планшеты, мобильные телефоны   \n",
       "1453    667246761   688358054     Смартфоны, планшеты, мобильные телефоны   \n",
       "2430    186874171   527258028                        Расходник для печати   \n",
       "2543    554977191   703443974     Смартфоны, планшеты, мобильные телефоны   \n",
       "2766    563070850   588397077                        Кабели и переходники   \n",
       "2810    623124310   672965259                        Наушники и гарнитуры   \n",
       "3108    261788606   465201788     Смартфоны, планшеты, мобильные телефоны   \n",
       "3147     92390514   615491224                        Расходник для печати   \n",
       "3295    463679888   551014265                                   Компьютер   \n",
       "3365    369693751   599170053                          Оптические приборы   \n",
       "4062    656993629   680366141                          Акустика и колонки   \n",
       "4094    371992664   564086149                                   Компьютер   \n",
       "4723    133727920   376275985                    Устройство ручного ввода   \n",
       "5432    336435481   432545720                        Расходник для печати   \n",
       "6050    633399843   633423274  Сетевые фильтры, разветвители и удлинители   \n",
       "6337    412297708   567698766                    Устройство ручного ввода   \n",
       "6977     90603554   703848047                       Рюкзаки, чехлы, сумки   \n",
       "7209    504143079   529244253                        Кабели и переходники   \n",
       "7893    231973475   434926289                          Акустика и колонки   \n",
       "7982    245324140   325256775                          Акустика и колонки   \n",
       "8489    160978312   373954427                                         ИБП   \n",
       "9637     89666253    89677690                                   Компьютер   \n",
       "11689    53928098   490498054                        Расходник для печати   \n",
       "11697   160440458   330641179     Смартфоны, планшеты, мобильные телефоны   \n",
       "14025   468774842   703809292                        Кабели и переходники   \n",
       "14305   445425564   445534400                      Запчасти для ноутбуков   \n",
       "15544   575916743   575917864           Зарядные устройства и док-станции   \n",
       "15953   195303561   280667737     Смартфоны, планшеты, мобильные телефоны   \n",
       "15992   241226409   304478365                        Кабели и переходники   \n",
       "16210   286890187   620020474                          Акустика и колонки   \n",
       "16310   375600423   487627074                        Наушники и гарнитуры   \n",
       "16524   615190839   615193347     Смартфоны, планшеты, мобильные телефоны   \n",
       "16845   642233400   642234890     Смартфоны, планшеты, мобильные телефоны   \n",
       "17145    89619377    89619845                                   Компьютер   \n",
       "\n",
       "       target  \n",
       "1035      0.0  \n",
       "1453      0.0  \n",
       "2430      0.0  \n",
       "2543      1.0  \n",
       "2766      0.0  \n",
       "2810      1.0  \n",
       "3108      0.0  \n",
       "3147      0.0  \n",
       "3295      0.0  \n",
       "3365      1.0  \n",
       "4062      1.0  \n",
       "4094      0.0  \n",
       "4723      0.0  \n",
       "5432      0.0  \n",
       "6050      0.0  \n",
       "6337      1.0  \n",
       "6977      1.0  \n",
       "7209      0.0  \n",
       "7893      1.0  \n",
       "7982      1.0  \n",
       "8489      1.0  \n",
       "9637      0.0  \n",
       "11689     1.0  \n",
       "11697     0.0  \n",
       "14025     1.0  \n",
       "14305     0.0  \n",
       "15544     0.0  \n",
       "15953     1.0  \n",
       "15992     0.0  \n",
       "16210     1.0  \n",
       "16310     1.0  \n",
       "16524     0.0  \n",
       "16845     0.0  \n",
       "17145     0.0  "
      ]
     },
     "execution_count": 4,
     "metadata": {},
     "output_type": "execute_result"
    }
   ],
   "source": [
    "# пары теста есть в трейн выборке, а значит мы знаем ответ для них. запомним ответ\n",
    "answer=test_pairs.merge(\n",
    "    pd.concat([train_pairs,train_pairs.rename(columns={'variantid1':'variantid2','variantid2':'variantid1'})])\n",
    "    .drop_duplicates(subset=['variantid1','variantid2']),\n",
    "        on=['variantid1','variantid2'],how='left',suffixes=('','_1'))\n",
    "answer=pd.DataFrame(answer[~answer['target'].isna()]).copy()\n",
    "answer"
   ]
  },
  {
   "cell_type": "code",
   "execution_count": 5,
   "metadata": {},
   "outputs": [],
   "source": [
    "# берём список категорий из теста чтобы задать что входит в категорию rest и какие категории остаются\n",
    "cat3set=set(test_pairs['cat3_grouped'].unique().tolist())"
   ]
  },
  {
   "cell_type": "code",
   "execution_count": 6,
   "metadata": {},
   "outputs": [],
   "source": [
    "# описание товаров в трейн и тест пересекаются по номерам и отличны по содержанию.\n",
    "# заменим описание в тесте на описания из трейн выборки\n",
    "diff_list=set(train_etl['variantid'].to_list()) & set(test_etl['variantid'].to_list())\n",
    "test_etl.drop(test_etl[test_etl['variantid'].isin(diff_list)].index,axis=0,inplace=True)\n",
    "all_etl=pd.concat([train_etl,test_etl],axis=0)"
   ]
  },
  {
   "cell_type": "code",
   "execution_count": 7,
   "metadata": {},
   "outputs": [
    {
     "data": {
      "text/plain": [
       "3021"
      ]
     },
     "execution_count": 7,
     "metadata": {},
     "output_type": "execute_result"
    }
   ],
   "source": [
    "len(diff_list)"
   ]
  },
  {
   "cell_type": "code",
   "execution_count": 13,
   "metadata": {},
   "outputs": [],
   "source": [
    "# заполним признакb"
   ]
  },
  {
   "cell_type": "code",
   "execution_count": 14,
   "metadata": {},
   "outputs": [],
   "source": [
    "# characteristic_attributes_mapping\n",
    "features = (train_pairs.merge(all_etl[['variantid','characteristic_attributes_mapping']].add_suffix('1'),on=\"variantid1\").merge(all_etl[['variantid','characteristic_attributes_mapping']].add_suffix('2'),on=\"variantid2\"))\n"
   ]
  },
  {
   "cell_type": "code",
   "execution_count": 15,
   "metadata": {},
   "outputs": [],
   "source": [
    "test_features = (test_pairs.merge(all_etl[['variantid','characteristic_attributes_mapping']].add_suffix('1'),on=\"variantid1\").merge(all_etl[['variantid','characteristic_attributes_mapping']].add_suffix('2'),on=\"variantid2\"))"
   ]
  },
  {
   "cell_type": "code",
   "execution_count": 16,
   "metadata": {},
   "outputs": [],
   "source": [
    "def check_value_json1(_x1,_x2):  \n",
    "    _d={}\n",
    "    if _x1 is None:\n",
    "        _d1=[]\n",
    "    else:        \n",
    "        _d1=json.loads(_x1)\n",
    "    if _x2 is None:\n",
    "        _d2=[]\n",
    "    else:\n",
    "        _d2=json.loads(_x2)\n",
    "    _sd1=set(_d1)\n",
    "    _sd2=set(_d2)\n",
    "    \n",
    "    for _s in _sd1.intersection(_sd2):           \n",
    "        if len(set(_d1[_s]) ^ set(_d2[_s]))>0:\n",
    "            _d[_s]=-1\n",
    "        else:\n",
    "            _d[_s]=1\n",
    "    \n",
    "        \n",
    "    return _d"
   ]
  },
  {
   "cell_type": "code",
   "execution_count": 8,
   "metadata": {},
   "outputs": [
    {
     "data": {
      "text/plain": [
       "1461"
      ]
     },
     "execution_count": 8,
     "metadata": {},
     "output_type": "execute_result"
    }
   ],
   "source": [
    "all=set()\n",
    "for s in all_etl[~all_etl['characteristic_attributes_mapping'].isna()]['characteristic_attributes_mapping']:\n",
    "    d = json.loads(s)    \n",
    "    all=all.union(set(d))\n",
    "  \n",
    "len(all)"
   ]
  },
  {
   "cell_type": "code",
   "execution_count": 18,
   "metadata": {},
   "outputs": [],
   "source": [
    "all_etl['3_1']=all_etl['categories'].apply(lambda x:json.loads(x)[\"3\"])\n",
    "all_etl[\"cat3_grouped\"] = all_etl[\"3_1\"].apply(lambda x: x if (x in cat3set) else \"rest\")\n",
    "features = features.merge(all_etl[['variantid','cat3_grouped']].add_suffix('1'),on=\"variantid1\")\n",
    "features.rename(columns={'cat3_grouped1':'cat3_grouped'},inplace=True)"
   ]
  },
  {
   "cell_type": "code",
   "execution_count": 19,
   "metadata": {},
   "outputs": [],
   "source": []
  },
  {
   "cell_type": "code",
   "execution_count": 20,
   "metadata": {},
   "outputs": [],
   "source": [
    "features=pd.concat([features,\n",
    "                    features[['characteristic_attributes_mapping1','characteristic_attributes_mapping2']].apply(lambda x: pd.Series(check_value_json1(x['characteristic_attributes_mapping1'],x['characteristic_attributes_mapping2']),dtype='Int8'),axis=1)],axis=1)\n",
    "features.drop(['characteristic_attributes_mapping1','characteristic_attributes_mapping2'],axis=1,inplace=True)\n",
    "\n",
    "features.fillna(0,inplace=True)"
   ]
  },
  {
   "cell_type": "code",
   "execution_count": null,
   "metadata": {},
   "outputs": [],
   "source": []
  },
  {
   "cell_type": "code",
   "execution_count": 21,
   "metadata": {},
   "outputs": [],
   "source": [
    "test_features=pd.concat([test_features,\n",
    "                    test_features[['characteristic_attributes_mapping1','characteristic_attributes_mapping2']]\n",
    "                    .apply(lambda x: pd.Series(check_value_json1(x['characteristic_attributes_mapping1'],x['characteristic_attributes_mapping2']),dtype='Int8'),axis=1)],axis=1)\n",
    "test_features.drop(['characteristic_attributes_mapping1','characteristic_attributes_mapping2'],axis=1,inplace=True)\n",
    "\n",
    "test_features.fillna(0,inplace=True)"
   ]
  },
  {
   "cell_type": "code",
   "execution_count": 22,
   "metadata": {},
   "outputs": [
    {
     "data": {
      "text/plain": [
       "1282"
      ]
     },
     "execution_count": 22,
     "metadata": {},
     "output_type": "execute_result"
    }
   ],
   "source": [
    "len(features.columns.to_list())"
   ]
  },
  {
   "cell_type": "code",
   "execution_count": 23,
   "metadata": {},
   "outputs": [],
   "source": [
    "cols_to_test=all.difference(set(test_features.columns.to_list()))\n",
    "test_features=pd.concat([test_features,pd.DataFrame(data=np.zeros(shape=(test_features.shape[0],len(cols_to_test))),columns=list(cols_to_test),dtype='Int8')],axis=1)"
   ]
  },
  {
   "cell_type": "code",
   "execution_count": 24,
   "metadata": {},
   "outputs": [],
   "source": [
    "cols_to_test=all.difference(set(features.columns.to_list()))\n",
    "features=pd.concat([features,pd.DataFrame(data=np.zeros(shape=(features.shape[0],len(cols_to_test))),columns=list(cols_to_test),dtype='Int8')],axis=1)"
   ]
  },
  {
   "cell_type": "code",
   "execution_count": 25,
   "metadata": {},
   "outputs": [
    {
     "name": "stdout",
     "output_type": "stream",
     "text": [
      "<class 'pandas.core.frame.DataFrame'>\n",
      "Int64Index: 18084 entries, 0 to 18083\n",
      "Columns: 1464 entries, variantid1 to Насадки\n",
      "dtypes: Int8(1461), int64(2), object(1)\n",
      "memory usage: 50.9+ MB\n"
     ]
    }
   ],
   "source": [
    "test_features.info()"
   ]
  },
  {
   "cell_type": "code",
   "execution_count": null,
   "metadata": {},
   "outputs": [],
   "source": [
    "\n"
   ]
  },
  {
   "attachments": {},
   "cell_type": "markdown",
   "metadata": {},
   "source": [
    "# Name and main pic"
   ]
  },
  {
   "cell_type": "code",
   "execution_count": 26,
   "metadata": {},
   "outputs": [],
   "source": [
    "def get_pic_features(main_pic_embeddings_1,\n",
    "                     main_pic_embeddings_2,\n",
    "                     percentiles: List[int]):\n",
    "    \"\"\"Calculate distances percentiles for \n",
    "    pairwise pic distances. Percentiles are useful \n",
    "    when product has several pictures.\n",
    "    \"\"\"\n",
    "    \n",
    "    if main_pic_embeddings_1 is not None and main_pic_embeddings_2 is not None:\n",
    "        main_pic_embeddings_1 = np.array([x for x in main_pic_embeddings_1])\n",
    "        main_pic_embeddings_2 = np.array([x for x in main_pic_embeddings_2])\n",
    "        \n",
    "        dist_m = pairwise_distances(\n",
    "            main_pic_embeddings_1, main_pic_embeddings_2\n",
    "        )\n",
    "    else:\n",
    "        dist_m = np.array([[-1]])\n",
    "\n",
    "    pair_features = []\n",
    "    pair_features += np.percentile(dist_m, percentiles).tolist()\n",
    "\n",
    "    return pair_features\n",
    "\n",
    "\n",
    "def text_dense_distances(ozon_embedding, comp_embedding):\n",
    "    \"\"\"Calculate Euclidean and Cosine distances between\n",
    "    ozon_embedding and comp_embedding.\n",
    "    \"\"\"\n",
    "    pair_features = []\n",
    "    if ozon_embedding is None or comp_embedding is None:\n",
    "        pair_features = [-1, -1]\n",
    "    elif len(ozon_embedding) == 0 or len(comp_embedding) == 0:\n",
    "        pair_features = [-1, -1]\n",
    "    else:\n",
    "        pair_features.append(\n",
    "            euclidean(ozon_embedding, comp_embedding)\n",
    "        )\n",
    "        cosine_value = cosine(ozon_embedding, comp_embedding)\n",
    "        \n",
    "        pair_features.append(cosine_value)\n",
    "\n",
    "    return pair_features\n",
    "\n",
    "def name_distances(name1, name2):\n",
    "    \"\"\"Calculate Euclidean and Cosine distances between\n",
    "    ozon_embedding and comp_embedding.\n",
    "    \"\"\"\n",
    "    pair_features = 0\n",
    "    if name1 is None or name2 is None:\n",
    "        return 0\n",
    "    if name1.lower()==name2.lower():\n",
    "        return 1\n",
    "    return -1\n",
    "\n",
    "def main_pics_distances(ozon_embedding, comp_embedding):\n",
    "    \"\"\"Calculate Euclidean and Cosine distances between\n",
    "    ozon_embedding and comp_embedding.\n",
    "    \"\"\"\n",
    "    pair_features = []\n",
    "    if ozon_embedding is None or comp_embedding is None:\n",
    "        return [-1, -1, 0]\n",
    "    \n",
    "    ozon_embedding=ozon_embedding[0]\n",
    "    comp_embedding=comp_embedding[0]\n",
    "    if len(ozon_embedding) == 0 or len(comp_embedding) == 0:\n",
    "        return [-1, -1, 0]\n",
    "    else:\n",
    "        pair_features.append(euclidean(ozon_embedding, comp_embedding))        \n",
    "        pair_features.append(cosine(ozon_embedding, comp_embedding))\n",
    "        pair_features.append(1)\n",
    "\n",
    "    return pair_features"
   ]
  },
  {
   "cell_type": "code",
   "execution_count": 27,
   "metadata": {},
   "outputs": [],
   "source": [
    "features = (features.merge(all_etl[['variantid','name_bert_64','main_pic_embeddings_resnet_v1','name']].add_suffix('1'),on=\"variantid1\").merge(all_etl[['variantid','name_bert_64','main_pic_embeddings_resnet_v1','name']].add_suffix('2'),on=\"variantid2\"))"
   ]
  },
  {
   "cell_type": "code",
   "execution_count": 28,
   "metadata": {},
   "outputs": [],
   "source": [
    "test_features = (test_features.merge(all_etl[['variantid','name_bert_64','main_pic_embeddings_resnet_v1','name']].add_suffix('1'),on=\"variantid1\").merge(all_etl[['variantid','name_bert_64','main_pic_embeddings_resnet_v1','name']].add_suffix('2'),on=\"variantid2\"))"
   ]
  },
  {
   "cell_type": "code",
   "execution_count": 29,
   "metadata": {},
   "outputs": [],
   "source": [
    "features[[\"euclidean_name_bert_dist\", \"cosine_name_bert_dist\"]] = (\n",
    "    features[[\"name_bert_641\", \"name_bert_642\"]].apply(\n",
    "        lambda x: pd.Series(text_dense_distances(*x)), axis=1\n",
    "    )\n",
    ")\n",
    "features.drop(['name_bert_641','name_bert_642'],axis=1,inplace=True)"
   ]
  },
  {
   "cell_type": "code",
   "execution_count": 30,
   "metadata": {},
   "outputs": [],
   "source": [
    "test_features[[\"euclidean_name_bert_dist\", \"cosine_name_bert_dist\"]] = (\n",
    "    test_features[[\"name_bert_641\", \"name_bert_642\"]].apply(\n",
    "        lambda x: pd.Series(text_dense_distances(*x)), axis=1\n",
    "    )\n",
    ")\n",
    "test_features.drop(['name_bert_641','name_bert_642'],axis=1,inplace=True)"
   ]
  },
  {
   "cell_type": "code",
   "execution_count": 31,
   "metadata": {},
   "outputs": [],
   "source": [
    "get_pic_features_func = partial(\n",
    "    get_pic_features,\n",
    "    percentiles=[0, 25, 50]\n",
    ")"
   ]
  },
  {
   "cell_type": "code",
   "execution_count": 32,
   "metadata": {},
   "outputs": [],
   "source": [
    "features[[\"cosine_main_pic_dist\", \"eu_mainpic_dist\", \"bl_main_pic\"]] = (\n",
    "    features[[\"main_pic_embeddings_resnet_v11\", \"main_pic_embeddings_resnet_v12\"]].apply(\n",
    "        lambda x: pd.Series(main_pics_distances(*x)), axis=1\n",
    "    )\n",
    ")\n",
    "features.drop(['main_pic_embeddings_resnet_v11','main_pic_embeddings_resnet_v12'],axis=1,inplace=True)"
   ]
  },
  {
   "cell_type": "code",
   "execution_count": 33,
   "metadata": {},
   "outputs": [],
   "source": [
    "test_features[[\"cosine_main_pic_dist\", \"eu_mainpic_dist\", \"bl_main_pic\"]] = (\n",
    "    test_features[[\"main_pic_embeddings_resnet_v11\", \"main_pic_embeddings_resnet_v12\"]].apply(\n",
    "        lambda x: pd.Series(main_pics_distances(*x)), axis=1\n",
    "    )\n",
    ")\n",
    "test_features.drop(['main_pic_embeddings_resnet_v11','main_pic_embeddings_resnet_v12'],axis=1,inplace=True)"
   ]
  },
  {
   "cell_type": "code",
   "execution_count": 35,
   "metadata": {},
   "outputs": [],
   "source": [
    "features['name_bl']=-1\n",
    "features.loc[features['name1'].str.lower()==features['name2'].str.lower(),'name_bl']=1\n",
    "features.drop(['name1','name2'],axis=1,inplace=True)"
   ]
  },
  {
   "cell_type": "code",
   "execution_count": 36,
   "metadata": {},
   "outputs": [],
   "source": [
    "test_features['name_bl']=-1\n",
    "test_features.loc[test_features['name1'].str.lower()==test_features['name2'].str.lower(),'name_bl']=1\n",
    "test_features.drop(['name1','name2'],axis=1,inplace=True)"
   ]
  },
  {
   "cell_type": "code",
   "execution_count": 37,
   "metadata": {},
   "outputs": [],
   "source": []
  },
  {
   "cell_type": "code",
   "execution_count": 38,
   "metadata": {},
   "outputs": [],
   "source": [
    "features = (features.merge(all_etl[['variantid','categories']].add_suffix('1'),on=\"variantid1\").merge(all_etl[['variantid','categories']].add_suffix('2'),on=\"variantid2\"))\n",
    "features['2_1']=features['categories1'].apply(lambda x:json.loads(x)[\"2\"])\n",
    "features['3_1']=features['categories1'].apply(lambda x:json.loads(x)[\"3\"])\n",
    "features['4_1']=features['categories1'].apply(lambda x:json.loads(x)[\"4\"])\n",
    "features['2_2']=features['categories2'].apply(lambda x:json.loads(x)[\"2\"])\n",
    "features['3_2']=features['categories2'].apply(lambda x:json.loads(x)[\"3\"])\n",
    "features['4_2']=features['categories2'].apply(lambda x:json.loads(x)[\"4\"])\n",
    "\n",
    "features['2_bool']=1\n",
    "features['3_bool']=1\n",
    "features['4_bool']=1\n",
    "features.loc[~(features['2_1']==features['2_2']),'2_bool']=-1\n",
    "features.loc[~(features['3_1']==features['3_2']),'3_bool']=-1\n",
    "features.loc[~(features['4_1']==features['4_2']),'4_bool']=-1\n",
    "features.drop(['categories1','categories2'],axis=1,inplace=True)"
   ]
  },
  {
   "cell_type": "code",
   "execution_count": 39,
   "metadata": {},
   "outputs": [],
   "source": [
    "test_features = (test_features.merge(all_etl[['variantid','categories']].add_suffix('1'),on=\"variantid1\").merge(all_etl[['variantid','categories']].add_suffix('2'),on=\"variantid2\"))\n",
    "test_features['2_1']=test_features['categories1'].apply(lambda x:json.loads(x)[\"2\"])\n",
    "test_features['3_1']=test_features['categories1'].apply(lambda x:json.loads(x)[\"3\"])\n",
    "test_features['4_1']=test_features['categories1'].apply(lambda x:json.loads(x)[\"4\"])\n",
    "test_features['2_2']=test_features['categories2'].apply(lambda x:json.loads(x)[\"2\"])\n",
    "test_features['3_2']=test_features['categories2'].apply(lambda x:json.loads(x)[\"3\"])\n",
    "test_features['4_2']=test_features['categories2'].apply(lambda x:json.loads(x)[\"4\"])\n",
    "\n",
    "test_features['2_bool']=1\n",
    "test_features['3_bool']=1\n",
    "test_features['4_bool']=1\n",
    "test_features.loc[~(test_features['2_1']==test_features['2_2']),'2_bool']=-1\n",
    "test_features.loc[~(test_features['3_1']==test_features['3_2']),'3_bool']=-1\n",
    "test_features.loc[~(test_features['4_1']==test_features['4_2']),'4_bool']=-1\n",
    "test_features.drop(['categories1','categories2','3_1','3_2'],axis=1,inplace=True)"
   ]
  },
  {
   "cell_type": "code",
   "execution_count": 40,
   "metadata": {},
   "outputs": [],
   "source": [
    "\n",
    "features.drop(['3_1','3_2'],axis=1,inplace=True)\n"
   ]
  },
  {
   "cell_type": "code",
   "execution_count": 41,
   "metadata": {},
   "outputs": [],
   "source": [
    "features = (features.merge(all_etl[['variantid','pic_embeddings_resnet_v1']].add_suffix('1'),on=\"variantid1\").merge(all_etl[['variantid','pic_embeddings_resnet_v1']].add_suffix('2'),on=\"variantid2\"))\n",
    "features[[\"apic_dist_0_perc\", \"apic_dist_25_perc\", \"apic_dist_50_perc\"]] = (\n",
    "    features[[\"pic_embeddings_resnet_v11\", \"pic_embeddings_resnet_v12\"]].apply(\n",
    "        lambda x: pd.Series(get_pic_features_func(*x)), axis=1\n",
    "    )\n",
    ")\n",
    "features.drop(['pic_embeddings_resnet_v11','pic_embeddings_resnet_v12'],axis=1,inplace=True)"
   ]
  },
  {
   "cell_type": "code",
   "execution_count": 42,
   "metadata": {},
   "outputs": [],
   "source": [
    "test_features = (test_features.merge(all_etl[['variantid','pic_embeddings_resnet_v1']].add_suffix('1'),on=\"variantid1\").merge(all_etl[['variantid','pic_embeddings_resnet_v1']].add_suffix('2'),on=\"variantid2\"))\n",
    "test_features[[\"apic_dist_0_perc\", \"apic_dist_25_perc\", \"apic_dist_50_perc\"]] = (\n",
    "    test_features[[\"pic_embeddings_resnet_v11\", \"pic_embeddings_resnet_v12\"]].apply(\n",
    "        lambda x: pd.Series(get_pic_features_func(*x)), axis=1\n",
    "    )\n",
    ")\n",
    "test_features.drop(['pic_embeddings_resnet_v11','pic_embeddings_resnet_v12'],axis=1,inplace=True)"
   ]
  },
  {
   "cell_type": "code",
   "execution_count": 43,
   "metadata": {},
   "outputs": [],
   "source": [
    "def color_distance(ozon_embedding, comp_embedding):\n",
    "    \"\"\"Calculate Euclidean and Cosine distances between\n",
    "    ozon_embedding and comp_embedding.\n",
    "    \"\"\"\n",
    "    pair_features = []\n",
    "    if ozon_embedding is None or comp_embedding is None:\n",
    "        return [0, 0]\n",
    "    elif len(ozon_embedding) == 0 or len(comp_embedding) == 0:\n",
    "        pair_features = [0, 0]\n",
    "    else:\n",
    "        pair_features.append(\n",
    "            len(set(ozon_embedding) & set(comp_embedding)) / max(len( comp_embedding),len( ozon_embedding))\n",
    "        )\n",
    "        if len(set(ozon_embedding) & set(comp_embedding))>0:\n",
    "            cosine_value = 1\n",
    "        else:\n",
    "            cosine_value = -1\n",
    "        \n",
    "        pair_features.append(cosine_value)\n",
    "\n",
    "    return pair_features"
   ]
  },
  {
   "cell_type": "code",
   "execution_count": 44,
   "metadata": {},
   "outputs": [],
   "source": [
    "features = (features.merge(all_etl[['variantid','color_parsed']].add_suffix('1'),on=\"variantid1\").merge(all_etl[['variantid','color_parsed']].add_suffix('2'),on=\"variantid2\"))\n",
    "features[[\"color_parsed1_dist\", \"color_parsed_dist\"]] = (\n",
    "    features[[\"color_parsed1\", \"color_parsed2\"]].apply(\n",
    "        lambda x: pd.Series(color_distance(*x)), axis=1\n",
    "    )\n",
    ")\n",
    "features.drop(['color_parsed1','color_parsed2'],axis=1,inplace=True)"
   ]
  },
  {
   "cell_type": "code",
   "execution_count": 45,
   "metadata": {},
   "outputs": [],
   "source": [
    "test_features = (test_features.merge(all_etl[['variantid','color_parsed']].add_suffix('1'),on=\"variantid1\").merge(all_etl[['variantid','color_parsed']].add_suffix('2'),on=\"variantid2\"))\n",
    "test_features[[\"color_parsed1_dist\", \"color_parsed_dist\"]] = (\n",
    "    test_features[[\"color_parsed1\", \"color_parsed2\"]].apply(\n",
    "        lambda x: pd.Series(color_distance(*x)), axis=1\n",
    "    )\n",
    ")\n",
    "test_features.drop(['color_parsed1','color_parsed2'],axis=1,inplace=True)"
   ]
  },
  {
   "cell_type": "code",
   "execution_count": 10,
   "metadata": {},
   "outputs": [
    {
     "data": {
      "text/plain": [
       "68842"
      ]
     },
     "execution_count": 10,
     "metadata": {},
     "output_type": "execute_result"
    }
   ],
   "source": [
    "\n",
    "all_features_for_model = features.drop(['variantid1','variantid2','target'],axis=1).columns.tolist() \n",
    "features.duplicated(subset=all_features_for_model).sum()"
   ]
  },
  {
   "cell_type": "code",
   "execution_count": 11,
   "metadata": {},
   "outputs": [],
   "source": [
    "features.drop_duplicates(subset=all_features_for_model,inplace=True)"
   ]
  },
  {
   "cell_type": "code",
   "execution_count": 12,
   "metadata": {},
   "outputs": [],
   "source": [
    "all_features_for_model = features.drop(['variantid1','variantid2','target'],axis=1).columns.tolist() "
   ]
  },
  {
   "cell_type": "code",
   "execution_count": 13,
   "metadata": {},
   "outputs": [],
   "source": [
    "from catboost import CatBoostClassifier, Pool\n",
    "from sklearn.model_selection import train_test_split\n",
    "target_col='target'"
   ]
  },
  {
   "cell_type": "code",
   "execution_count": 9,
   "metadata": {},
   "outputs": [],
   "source": [
    "\n",
    "#features.to_parquet('train_for_model_default.parquet') #ready to train\n",
    "#test_features.to_parquet('test_for_model_default.parquet') #ready to test\n",
    "\n",
    "#test_features.to_parquet('test_for_model_default_1.parquet') #ready to test\n",
    "#features.to_parquet('train_for_model_iter1_1.parquet') #ready to train\n",
    "\n",
    "test_features=pd.read_parquet('test_for_model_default_1.parquet') \n",
    "features=pd.read_parquet('train_for_model_iter1_1.parquet') \n",
    "#features=pd.read_parquet('train_for_model_default.parquet') \n",
    "#test_features=pd.read_parquet('test_for_model_default.parquet')"
   ]
  },
  {
   "cell_type": "code",
   "execution_count": 14,
   "metadata": {},
   "outputs": [],
   "source": [
    "x_train, x_test, y_train, y_test = train_test_split(features, features[target_col], test_size = 0.5, random_state = 15,stratify=features[target_col])"
   ]
  },
  {
   "cell_type": "code",
   "execution_count": 15,
   "metadata": {},
   "outputs": [],
   "source": [
    "\n",
    "cat_feature=['4_1','4_2','2_1','2_2','cat3_grouped']\n",
    "\n",
    "train_pool = Pool(data=x_train.drop(['variantid1','variantid2',target_col],axis=1), label=y_train,cat_features=cat_feature)\n",
    "valid_pool = Pool(data=x_test.drop(['variantid1','variantid2',target_col],axis=1), label=y_test,cat_features=cat_feature)\n",
    "\n"
   ]
  },
  {
   "cell_type": "code",
   "execution_count": 16,
   "metadata": {},
   "outputs": [
    {
     "name": "stdout",
     "output_type": "stream",
     "text": [
      "0:\tlearn: 0.6456759\ttest: 0.6457120\tbest: 0.6457120 (0)\ttotal: 55.7ms\tremaining: 2m 46s\n",
      "300:\tlearn: 0.4356284\ttest: 0.4534034\tbest: 0.4534034 (300)\ttotal: 13.2s\tremaining: 1m 57s\n",
      "600:\tlearn: 0.4154601\ttest: 0.4482818\tbest: 0.4482818 (600)\ttotal: 26.1s\tremaining: 1m 44s\n",
      "900:\tlearn: 0.4006839\ttest: 0.4462447\tbest: 0.4462447 (900)\ttotal: 38.9s\tremaining: 1m 30s\n",
      "1200:\tlearn: 0.3871856\ttest: 0.4450538\tbest: 0.4450450 (1198)\ttotal: 51.7s\tremaining: 1m 17s\n",
      "1500:\tlearn: 0.3751314\ttest: 0.4444313\tbest: 0.4444267 (1498)\ttotal: 1m 4s\tremaining: 1m 4s\n",
      "bestTest = 0.4442470298\n",
      "bestIteration = 1595\n",
      "Shrink model to first 1596 iterations.\n"
     ]
    },
    {
     "data": {
      "text/plain": [
       "<catboost.core.CatBoostClassifier at 0x2c899b26c50>"
      ]
     },
     "execution_count": 16,
     "metadata": {},
     "output_type": "execute_result"
    }
   ],
   "source": [
    "\n",
    "clf = CatBoostClassifier(task_type='GPU', iterations=3000,learning_rate=0.15, depth=7, verbose=300, random_state = 6) \n",
    "clf.fit(train_pool, eval_set=valid_pool, verbose = 300,early_stopping_rounds=100) \n",
    "\n"
   ]
  },
  {
   "cell_type": "code",
   "execution_count": 17,
   "metadata": {},
   "outputs": [
    {
     "name": "stdout",
     "output_type": "stream",
     "text": [
      "0:\tlearn: 0.6465197\ttest: 0.6463833\tbest: 0.6463833 (0)\ttotal: 45.6ms\tremaining: 2m 16s\n",
      "300:\tlearn: 0.4366319\ttest: 0.4523419\tbest: 0.4523419 (300)\ttotal: 12.8s\tremaining: 1m 54s\n",
      "600:\tlearn: 0.4158392\ttest: 0.4467201\tbest: 0.4467201 (600)\ttotal: 25.4s\tremaining: 1m 41s\n",
      "900:\tlearn: 0.3999708\ttest: 0.4441808\tbest: 0.4441808 (900)\ttotal: 38.2s\tremaining: 1m 28s\n",
      "1200:\tlearn: 0.3866719\ttest: 0.4430725\tbest: 0.4430681 (1199)\ttotal: 51.4s\tremaining: 1m 17s\n",
      "1500:\tlearn: 0.3743537\ttest: 0.4424292\tbest: 0.4424192 (1490)\ttotal: 1m 4s\tremaining: 1m 4s\n",
      "bestTest = 0.4423912305\n",
      "bestIteration = 1517\n",
      "Shrink model to first 1518 iterations.\n"
     ]
    },
    {
     "data": {
      "text/plain": [
       "<catboost.core.CatBoostClassifier at 0x2c899b26aa0>"
      ]
     },
     "execution_count": 17,
     "metadata": {},
     "output_type": "execute_result"
    }
   ],
   "source": [
    "clf1 = CatBoostClassifier(task_type='GPU', iterations=3000,learning_rate=0.15, depth=7, verbose=300, random_state = 6) \n",
    "clf1.fit(valid_pool, eval_set=train_pool, verbose = 300,early_stopping_rounds=100) "
   ]
  },
  {
   "cell_type": "code",
   "execution_count": 23,
   "metadata": {},
   "outputs": [
    {
     "name": "stdout",
     "output_type": "stream",
     "text": [
      "0:\tlearn: 0.6457548\ttotal: 212ms\tremaining: 5m 17s\n",
      "300:\tlearn: 0.4412471\ttotal: 18.1s\tremaining: 1m 11s\n",
      "600:\tlearn: 0.4259041\ttotal: 35.9s\tremaining: 53.7s\n",
      "900:\tlearn: 0.4147000\ttotal: 53.1s\tremaining: 35.3s\n",
      "1200:\tlearn: 0.4056135\ttotal: 1m 10s\tremaining: 17.6s\n",
      "1499:\tlearn: 0.3972368\ttotal: 1m 28s\tremaining: 0us\n"
     ]
    },
    {
     "data": {
      "text/plain": [
       "<catboost.core.CatBoostClassifier at 0x2c8abf93820>"
      ]
     },
     "execution_count": 23,
     "metadata": {},
     "output_type": "execute_result"
    }
   ],
   "source": [
    "clf_final1 = CatBoostClassifier(task_type='GPU', iterations=1500,learning_rate=0.15, depth=7, verbose=300, random_state = 6) \n",
    "clf_final1.fit(features.drop(['variantid1','variantid2',target_col],axis=1),features[target_col],cat_features=cat_feature, verbose = 300) "
   ]
  },
  {
   "cell_type": "code",
   "execution_count": 25,
   "metadata": {},
   "outputs": [
    {
     "data": {
      "text/plain": [
       "Смартфоны, планшеты, мобильные телефоны       54175\n",
       "Компьютер                                     48201\n",
       "Расходник для печати                          23839\n",
       "Чехол                                         23830\n",
       "Кабели и переходники                          20744\n",
       "Смарт-часы                                    13266\n",
       "Наушники и гарнитуры                          12778\n",
       "Устройство ручного ввода                      10742\n",
       "Зарядные устройства и док-станции              9976\n",
       "rest                                           9146\n",
       "Видеонаблюдение                                8965\n",
       "Материнская плата                              8639\n",
       "Батарейки и аккумуляторы                       7992\n",
       "Запчасти для ноутбуков                         7289\n",
       "Запчасти для смартфонов                        7019\n",
       "Жесткие диски, SSD и сетевые накопители        6731\n",
       "Защитные пленки и стекла                       5275\n",
       "Оптические приборы                             5188\n",
       "Телевизоры                                     3804\n",
       "Видеокарты и графические ускорители            3785\n",
       "Электронные модули                             3710\n",
       "Акустика и колонки                             3477\n",
       "Сетевое оборудование                           3476\n",
       "Принтеры и МФУ                                 3212\n",
       "Карты памяти и флешки                          3155\n",
       "Мониторы и запчасти                            3016\n",
       "Оперативная память                             2498\n",
       "Сетевые фильтры, разветвители и удлинители     2323\n",
       "Аксессуары для фото и видеотехники             1828\n",
       "Видеорегистратор                               1813\n",
       "Процессор                                      1737\n",
       "ИБП                                            1656\n",
       "Кронштейн                                      1629\n",
       "Коврик для мыши                                1543\n",
       "Системы охлаждения для компьютеров             1216\n",
       "Рюкзаки, чехлы, сумки                          1214\n",
       "Микрофоны и аксессуары                         1199\n",
       "Умный дом                                      1162\n",
       "Блоки питания                                  1004\n",
       "Видеокамеры                                     970\n",
       "Корпуса для компьютеров                         618\n",
       "Расходные материалы                             531\n",
       "Запчасти для аудио/видеотехники                 453\n",
       "Гаджет                                          209\n",
       "Name: cat3_grouped, dtype: int64"
      ]
     },
     "execution_count": 25,
     "metadata": {},
     "output_type": "execute_result"
    }
   ],
   "source": [
    "features['cat3_grouped'].value_counts()"
   ]
  },
  {
   "cell_type": "code",
   "execution_count": null,
   "metadata": {},
   "outputs": [],
   "source": [
    "iters=[]\n",
    "models=[]\n",
    "best_score_models_learn=[]\n",
    "best_score_models_val=[]\n",
    "category_list=[]\n",
    "for _cat in cat3set: \n",
    "    print(_cat)\n",
    "    _data=features[features['cat3_grouped']==_cat]\n",
    "    x_train, x_test, y_train, y_test = train_test_split(_data, _data[target_col], test_size = 0.2, random_state = 15,stratify=_data[target_col])\n",
    "    cat_feature=['4_1','4_2','2_1','2_2']\n",
    "    clf2 = CatBoostClassifier(task_type='GPU', iterations=5000,learning_rate=0.1, depth=7, verbose=300, random_state = 6) \n",
    "    clf2.fit(x_train.drop(['variantid1','variantid2','cat3_grouped',target_col],axis=1),y_train, eval_set=(x_test.drop(['variantid1','variantid2','cat3_grouped',target_col],axis=1),y_test),cat_features=cat_feature, verbose = 300,early_stopping_rounds=100)\n",
    "    iters.append(clf2.get_best_iteration())\n",
    "    models.append(clf2)\n",
    "    best_score_models_learn.append(clf2.get_best_score()['learn']['Logloss'])\n",
    "    best_score_models_val.append(clf2.get_best_score()['validation']['Logloss'])\n",
    "    category_list.append(_cat)\n",
    "\n",
    "\n"
   ]
  },
  {
   "cell_type": "code",
   "execution_count": 28,
   "metadata": {},
   "outputs": [
    {
     "name": "stdout",
     "output_type": "stream",
     "text": [
      "Наушники и гарнитуры\n",
      "0:\tlearn: 0.6321374\ttotal: 24.5ms\tremaining: 6.26s\n",
      "256:\tlearn: 0.2499902\ttotal: 6.17s\tremaining: 0us\n",
      "Оптические приборы\n",
      "0:\tlearn: 0.6467863\ttotal: 24.5ms\tremaining: 7.41s\n",
      "300:\tlearn: 0.2060020\ttotal: 6.74s\tremaining: 67.2ms\n",
      "303:\tlearn: 0.2045055\ttotal: 6.81s\tremaining: 0us\n",
      "Аксессуары для фото и видеотехники\n",
      "0:\tlearn: 0.6262375\ttotal: 13.6ms\tremaining: 1.03s\n",
      "76:\tlearn: 0.2301237\ttotal: 944ms\tremaining: 0us\n",
      "Расходник для печати\n",
      "0:\tlearn: 0.6627324\ttotal: 25ms\tremaining: 5.67s\n",
      "227:\tlearn: 0.4311792\ttotal: 5.8s\tremaining: 0us\n",
      "Батарейки и аккумуляторы\n",
      "0:\tlearn: 0.6491272\ttotal: 27.6ms\tremaining: 9.84s\n",
      "300:\tlearn: 0.2868377\ttotal: 7.72s\tremaining: 1.44s\n",
      "356:\tlearn: 0.2685101\ttotal: 9.2s\tremaining: 0us\n",
      "Микрофоны и аксессуары\n",
      "0:\tlearn: 0.6300457\ttotal: 13.6ms\tremaining: 463ms\n",
      "34:\tlearn: 0.2907825\ttotal: 453ms\tremaining: 0us\n",
      "Смарт-часы\n",
      "0:\tlearn: 0.6589491\ttotal: 61.4ms\tremaining: 32.4s\n",
      "300:\tlearn: 0.4434759\ttotal: 15.9s\tremaining: 12s\n",
      "527:\tlearn: 0.4361302\ttotal: 27.1s\tremaining: 0us\n",
      "Оперативная память\n",
      "0:\tlearn: 0.5926536\ttotal: 14.9ms\tremaining: 700ms\n",
      "47:\tlearn: 0.2160158\ttotal: 605ms\tremaining: 0us\n",
      "Корпуса для компьютеров\n",
      "0:\tlearn: 0.6447299\ttotal: 13.2ms\tremaining: 291ms\n",
      "22:\tlearn: 0.3866070\ttotal: 288ms\tremaining: 0us\n",
      "Коврик для мыши\n",
      "0:\tlearn: 0.6279117\ttotal: 13.2ms\tremaining: 765ms\n",
      "58:\tlearn: 0.2274319\ttotal: 736ms\tremaining: 0us\n",
      "Компьютер\n",
      "0:\tlearn: 0.5937547\ttotal: 18.2ms\tremaining: 2.59s\n",
      "142:\tlearn: 0.2596715\ttotal: 2.1s\tremaining: 0us\n",
      "Мониторы и запчасти\n",
      "0:\tlearn: 0.6802218\ttotal: 14.7ms\tremaining: 324ms\n",
      "22:\tlearn: 0.5678258\ttotal: 303ms\tremaining: 0us\n",
      "Рюкзаки, чехлы, сумки\n",
      "0:\tlearn: 0.6442924\ttotal: 16ms\tremaining: 3.14s\n",
      "196:\tlearn: 0.1157347\ttotal: 2.49s\tremaining: 0us\n",
      "Системы охлаждения для компьютеров\n",
      "0:\tlearn: 0.6570058\ttotal: 14.8ms\tremaining: 1.06s\n",
      "72:\tlearn: 0.2861989\ttotal: 941ms\tremaining: 0us\n",
      "Принтеры и МФУ\n",
      "0:\tlearn: 0.6728677\ttotal: 14ms\tremaining: 2.29s\n",
      "164:\tlearn: 0.3109888\ttotal: 2.17s\tremaining: 0us\n",
      "Электронные модули\n",
      "0:\tlearn: 0.6206105\ttotal: 13.6ms\tremaining: 626ms\n",
      "46:\tlearn: 0.2989304\ttotal: 606ms\tremaining: 0us\n",
      "Сетевое оборудование\n",
      "0:\tlearn: 0.6597031\ttotal: 14.4ms\tremaining: 1.05s\n",
      "73:\tlearn: 0.3949733\ttotal: 949ms\tremaining: 0us\n",
      "Акустика и колонки\n",
      "0:\tlearn: 0.6135759\ttotal: 14.3ms\tremaining: 1.53s\n",
      "107:\tlearn: 0.1668044\ttotal: 1.39s\tremaining: 0us\n",
      "rest\n",
      "0:\tlearn: 0.6476568\ttotal: 26.5ms\tremaining: 9.78s\n",
      "300:\tlearn: 0.3219832\ttotal: 8.4s\tremaining: 1.93s\n",
      "369:\tlearn: 0.3034991\ttotal: 10.3s\tremaining: 0us\n",
      "Защитные пленки и стекла\n",
      "0:\tlearn: 0.6203584\ttotal: 12.7ms\tremaining: 1.21s\n",
      "95:\tlearn: 0.2720867\ttotal: 1.28s\tremaining: 0us\n",
      "Карты памяти и флешки\n",
      "0:\tlearn: 0.6319356\ttotal: 15.3ms\tremaining: 1.15s\n",
      "75:\tlearn: 0.3091795\ttotal: 946ms\tremaining: 0us\n",
      "Расходные материалы\n",
      "0:\tlearn: 0.6404415\ttotal: 13.5ms\tremaining: 592ms\n",
      "44:\tlearn: 0.2159960\ttotal: 554ms\tremaining: 0us\n",
      "Материнская плата\n",
      "0:\tlearn: 0.6553997\ttotal: 23.2ms\tremaining: 4.61s\n",
      "199:\tlearn: 0.3299739\ttotal: 4.5s\tremaining: 0us\n",
      "Кронштейн\n",
      "0:\tlearn: 0.6219518\ttotal: 13.7ms\tremaining: 753ms\n",
      "55:\tlearn: 0.2129613\ttotal: 713ms\tremaining: 0us\n",
      "Умный дом\n",
      "0:\tlearn: 0.6389255\ttotal: 17.2ms\tremaining: 1.83s\n",
      "106:\tlearn: 0.1967039\ttotal: 1.33s\tremaining: 0us\n",
      "Жесткие диски, SSD и сетевые накопители\n",
      "0:\tlearn: 0.6174253\ttotal: 15.1ms\tremaining: 1.6s\n",
      "106:\tlearn: 0.2740311\ttotal: 1.47s\tremaining: 0us\n",
      "Устройство ручного ввода\n",
      "0:\tlearn: 0.6707835\ttotal: 24.6ms\tremaining: 5.46s\n",
      "222:\tlearn: 0.4113925\ttotal: 5.28s\tremaining: 0us\n",
      "Видеонаблюдение\n",
      "0:\tlearn: 0.6822153\ttotal: 15.6ms\tremaining: 2.16s\n",
      "138:\tlearn: 0.4958168\ttotal: 1.97s\tremaining: 0us\n",
      "Чехол\n",
      "0:\tlearn: 0.6230018\ttotal: 23.2ms\tremaining: 5.38s\n",
      "232:\tlearn: 0.2930985\ttotal: 5.59s\tremaining: 0us\n",
      "Процессор\n",
      "0:\tlearn: 0.6641418\ttotal: 12.6ms\tremaining: 867ms\n",
      "69:\tlearn: 0.3313459\ttotal: 907ms\tremaining: 0us\n",
      "Телевизоры\n",
      "0:\tlearn: 0.6502139\ttotal: 9.08ms\tremaining: 2.27s\n",
      "250:\tlearn: 0.1831766\ttotal: 1.71s\tremaining: 0us\n",
      "Запчасти для аудио/видеотехники\n",
      "0:\tlearn: 0.6334405\ttotal: 14.2ms\tremaining: 213ms\n",
      "15:\tlearn: 0.3500517\ttotal: 199ms\tremaining: 0us\n",
      "Кабели и переходники\n",
      "0:\tlearn: 0.6096210\ttotal: 26.9ms\tremaining: 6.99s\n",
      "260:\tlearn: 0.2573029\ttotal: 6.88s\tremaining: 0us\n",
      "Смартфоны, планшеты, мобильные телефоны\n",
      "0:\tlearn: 0.6489096\ttotal: 24.8ms\tremaining: 19.7s\n",
      "300:\tlearn: 0.3851328\ttotal: 7.61s\tremaining: 12.5s\n",
      "600:\tlearn: 0.3380033\ttotal: 15.3s\tremaining: 4.95s\n",
      "795:\tlearn: 0.3129437\ttotal: 20.2s\tremaining: 0us\n",
      "Видеокамеры\n",
      "0:\tlearn: 0.6684880\ttotal: 14ms\tremaining: 632ms\n",
      "45:\tlearn: 0.3836274\ttotal: 579ms\tremaining: 0us\n",
      "Видеорегистратор\n",
      "0:\tlearn: 0.6455457\ttotal: 13.8ms\tremaining: 428ms\n",
      "31:\tlearn: 0.3367415\ttotal: 430ms\tremaining: 0us\n",
      "Запчасти для смартфонов\n",
      "0:\tlearn: 0.6807207\ttotal: 21.4ms\tremaining: 6.45s\n",
      "300:\tlearn: 0.4139802\ttotal: 7.27s\tremaining: 24.2ms\n",
      "301:\tlearn: 0.4134619\ttotal: 7.29s\tremaining: 0us\n",
      "Видеокарты и графические ускорители\n",
      "0:\tlearn: 0.6748630\ttotal: 12ms\tremaining: 837ms\n",
      "70:\tlearn: 0.4451572\ttotal: 933ms\tremaining: 0us\n",
      "Блоки питания\n",
      "0:\tlearn: 0.6463375\ttotal: 13.3ms\tremaining: 505ms\n",
      "38:\tlearn: 0.3112761\ttotal: 509ms\tremaining: 0us\n",
      "Гаджет\n",
      "0:\tlearn: 0.6166972\ttotal: 11.5ms\tremaining: 196ms\n",
      "17:\tlearn: 0.2233285\ttotal: 226ms\tremaining: 0us\n",
      "Сетевые фильтры, разветвители и удлинители\n",
      "0:\tlearn: 0.6399043\ttotal: 14.1ms\tremaining: 1.33s\n",
      "94:\tlearn: 0.2785762\ttotal: 1.23s\tremaining: 0us\n",
      "Зарядные устройства и док-станции\n",
      "0:\tlearn: 0.6792267\ttotal: 15.8ms\tremaining: 2.6s\n",
      "165:\tlearn: 0.5178056\ttotal: 2.38s\tremaining: 0us\n",
      "ИБП\n",
      "0:\tlearn: 0.6513243\ttotal: 13.4ms\tremaining: 510ms\n",
      "38:\tlearn: 0.3712247\ttotal: 504ms\tremaining: 0us\n",
      "Запчасти для ноутбуков\n",
      "0:\tlearn: 0.6633504\ttotal: 14.2ms\tremaining: 2.28s\n",
      "161:\tlearn: 0.4158253\ttotal: 2.25s\tremaining: 0us\n"
     ]
    }
   ],
   "source": [
    "ii=0\n",
    "models=[]\n",
    "best_score_models_learn=[]\n",
    "for _cat in cat3set: \n",
    "    print(_cat)\n",
    "    if category_list[ii]!=_cat:\n",
    "        print(_cat,category_list[ii],ii)\n",
    "\n",
    "    _data=features[features['cat3_grouped']==_cat]    \n",
    "    cat_feature=['4_1','4_2','2_1','2_2']\n",
    "    clf2 = CatBoostClassifier(task_type='GPU', iterations=iters[ii],learning_rate=0.1, depth=7, verbose=300, random_state = 6) \n",
    "    clf2.fit(_data.drop(['variantid1','variantid2','cat3_grouped',target_col],axis=1),_data[target_col],cat_features=cat_feature, verbose = 300)    \n",
    "    models.append(clf2)\n",
    "    best_score_models_learn.append(clf2.get_best_score()['learn']['Logloss'])    \n",
    "    ii+=1"
   ]
  },
  {
   "cell_type": "code",
   "execution_count": null,
   "metadata": {},
   "outputs": [],
   "source": [
    "clf.get_feature_importance(valid_pool,prettified=True).head(20)"
   ]
  },
  {
   "cell_type": "code",
   "execution_count": null,
   "metadata": {},
   "outputs": [],
   "source": []
  },
  {
   "cell_type": "code",
   "execution_count": 320,
   "metadata": {},
   "outputs": [
    {
     "name": "stdout",
     "output_type": "stream",
     "text": [
      "MCC: 0.6015214309645822\n",
      "F1: 0.7833102162888476\n",
      "Recall: 0.7997942068110907\n"
     ]
    }
   ],
   "source": [
    "metrics = clf.eval_metrics(valid_pool, ['MCC', 'F1', 'Recall'])\n",
    "for metric, values in metrics.items():\n",
    "    print(f'{metric}: {values[-1]}')"
   ]
  },
  {
   "cell_type": "code",
   "execution_count": 16,
   "metadata": {},
   "outputs": [],
   "source": [
    "from sklearn.metrics import precision_recall_curve, auc\n",
    "\n",
    "\n",
    "def pr_auc_macro(df): \n",
    "\n",
    "    #df = target_df.merge(predictions_df, on=[\"variantid1\", \"variantid2\"])\n",
    "\n",
    "    y_true = df[\"target\"]\n",
    "    y_pred = df[\"scores\"]\n",
    "    _categories = df[\"cat3_grouped\"]\n",
    "    prec_level=0.75\n",
    "\n",
    "    weights = []\n",
    "    pr_aucs = []\n",
    "    res=dict()\n",
    "\n",
    "    unique_cats, counts = np.unique(_categories, return_counts=True)\n",
    "    res['name']=unique_cats\n",
    "    res['len']=counts\n",
    "    \n",
    "    # calculate metric for each big category\n",
    "    for i, _category in enumerate(unique_cats):\n",
    "        # take just a certain category\n",
    "        cat_idx = np.where(_categories == _category)[0]\n",
    "        y_pred_cat = y_pred.iloc[cat_idx]\n",
    "        y_true_cat = y_true.iloc[cat_idx]\n",
    "\n",
    "        # if there is no matches in the category then PRAUC=0\n",
    "        if sum(y_true_cat) == 0:\n",
    "            pr_aucs.append(0)\n",
    "            weights.append(counts[i] / len(_categories))\n",
    "            continue\n",
    "        \n",
    "        # get coordinates (x, y) for (recall, precision) of PR-curve\n",
    "        y, x, _ = precision_recall_curve(y_true_cat, y_pred_cat)\n",
    "        \n",
    "        # reverse the lists so that x's are in ascending order (left to right)\n",
    "        y = y[::-1]\n",
    "        x = x[::-1]\n",
    "        \n",
    "        # get indices for x-coordinate (recall) where y-coordinate (precision) \n",
    "        # is higher than precision level (75% for our task)\n",
    "        good_idx = np.where(y >= prec_level)[0]\n",
    "        \n",
    "        # if there are more than one such x's (at least one is always there, \n",
    "        # it's x=0 (recall=0)) we get a grid from x=0, to the rightest x \n",
    "        # with acceptable precision\n",
    "        \n",
    "        if len(good_idx) > 1:\n",
    "            gt_prec_level_idx = np.arange(0, good_idx[-1] + 1)\n",
    "        # if there is only one such x, then we have zeros in the top scores \n",
    "        # and the curve simply goes down sharply at x=0 and does not rise \n",
    "        # above the required precision: PRAUC=0\n",
    "        else:\n",
    "            pr_aucs.append(0)\n",
    "            weights.append(counts[i] / len(_categories))\n",
    "            continue\n",
    "        \n",
    "        # calculate category weight anyway\n",
    "        weights.append(counts[i] / len(_categories))\n",
    "        \n",
    "        \n",
    "        # calculate PRAUC for all points where the rightest x \n",
    "        # still has required precision \n",
    "        try:\n",
    "            pr_auc_prec_level = auc(x[gt_prec_level_idx], y[gt_prec_level_idx])\n",
    "            if not np.isnan(pr_auc_prec_level):\n",
    "                pr_aucs.append(pr_auc_prec_level)\n",
    "                \n",
    "        except ValueError:\n",
    "            pr_aucs.append(0)\n",
    "            \n",
    "    #return np.average(pr_aucs, weights=weights)\n",
    "    res['aucs']=pr_aucs\n",
    "    res['weights']=weights\n",
    "\n",
    "    return pr_aucs, weights,res\n"
   ]
  },
  {
   "cell_type": "code",
   "execution_count": 17,
   "metadata": {},
   "outputs": [],
   "source": [
    "x_test[\"scores\"] = clf.predict_proba(x_test.drop(['variantid1','variantid2',target_col],axis=1))[:, 1]"
   ]
  },
  {
   "cell_type": "code",
   "execution_count": 136,
   "metadata": {},
   "outputs": [],
   "source": [
    "ii=0\n",
    "features['scores']=0\n",
    "for _cat in cat3set:     \n",
    "    _data=features[features['cat3_grouped']==_cat]\n",
    "    features.loc[features['cat3_grouped']==_cat,'scores']=models[ii].predict_proba(features[features['cat3_grouped']==_cat].drop(['variantid1','variantid2',target_col,'cat3_grouped','scores'],axis=1))[:, 1]\n",
    "\n",
    "    ii+=1"
   ]
  },
  {
   "cell_type": "code",
   "execution_count": null,
   "metadata": {},
   "outputs": [],
   "source": [
    "x_train[\"scores\"] = clf1.predict_proba(x_train.drop(['variantid1','variantid2',target_col],axis=1))[:, 1]"
   ]
  },
  {
   "cell_type": "code",
   "execution_count": 137,
   "metadata": {},
   "outputs": [],
   "source": [
    "auc_res, weights,res_dict = pr_auc_macro(features[['variantid1','variantid2',target_col,'scores','cat3_grouped']].copy())"
   ]
  },
  {
   "cell_type": "code",
   "execution_count": 119,
   "metadata": {},
   "outputs": [],
   "source": [
    "auc_res, weights,res_dict = pr_auc_macro(x_train[['variantid1','variantid2',target_col,'scores','cat3_grouped']].copy())"
   ]
  },
  {
   "cell_type": "code",
   "execution_count": 35,
   "metadata": {},
   "outputs": [],
   "source": [
    "auc_res, weights,res_dict = pr_auc_macro(x_test[['variantid1','variantid2',target_col,'scores','cat3_grouped']].copy())"
   ]
  },
  {
   "cell_type": "code",
   "execution_count": 120,
   "metadata": {},
   "outputs": [
    {
     "data": {
      "text/plain": [
       "0.49404073129853626"
      ]
     },
     "execution_count": 120,
     "metadata": {},
     "output_type": "execute_result"
    }
   ],
   "source": [
    "np.average(auc_res, weights=weights)"
   ]
  },
  {
   "cell_type": "code",
   "execution_count": 138,
   "metadata": {},
   "outputs": [],
   "source": [
    "result2=pd.DataFrame(res_dict,columns=res_dict.keys())"
   ]
  },
  {
   "cell_type": "code",
   "execution_count": 36,
   "metadata": {},
   "outputs": [],
   "source": [
    "results = pd.DataFrame(res_dict,columns=res_dict.keys())"
   ]
  },
  {
   "cell_type": "code",
   "execution_count": 139,
   "metadata": {},
   "outputs": [],
   "source": [
    "results=results.merge(result2,on='name',how='left',suffixes=('','_2'))"
   ]
  },
  {
   "cell_type": "code",
   "execution_count": 143,
   "metadata": {},
   "outputs": [],
   "source": [
    "#results.to_csv('results_val.csv')"
   ]
  },
  {
   "cell_type": "code",
   "execution_count": 37,
   "metadata": {},
   "outputs": [
    {
     "data": {
      "text/html": [
       "<div>\n",
       "<style scoped>\n",
       "    .dataframe tbody tr th:only-of-type {\n",
       "        vertical-align: middle;\n",
       "    }\n",
       "\n",
       "    .dataframe tbody tr th {\n",
       "        vertical-align: top;\n",
       "    }\n",
       "\n",
       "    .dataframe thead th {\n",
       "        text-align: right;\n",
       "    }\n",
       "</style>\n",
       "<table border=\"1\" class=\"dataframe\">\n",
       "  <thead>\n",
       "    <tr style=\"text-align: right;\">\n",
       "      <th></th>\n",
       "      <th>name</th>\n",
       "      <th>len</th>\n",
       "      <th>aucs</th>\n",
       "      <th>weights</th>\n",
       "    </tr>\n",
       "  </thead>\n",
       "  <tbody>\n",
       "    <tr>\n",
       "      <th>7</th>\n",
       "      <td>Компьютер</td>\n",
       "      <td>9745</td>\n",
       "      <td>0.004327</td>\n",
       "      <td>0.222687</td>\n",
       "    </tr>\n",
       "    <tr>\n",
       "      <th>13</th>\n",
       "      <td>Электронные модули</td>\n",
       "      <td>730</td>\n",
       "      <td>0.093200</td>\n",
       "      <td>0.016682</td>\n",
       "    </tr>\n",
       "    <tr>\n",
       "      <th>0</th>\n",
       "      <td>Запчасти для аудио/видеотехники</td>\n",
       "      <td>105</td>\n",
       "      <td>0.142424</td>\n",
       "      <td>0.002399</td>\n",
       "    </tr>\n",
       "    <tr>\n",
       "      <th>4</th>\n",
       "      <td>Защитные пленки и стекла</td>\n",
       "      <td>1079</td>\n",
       "      <td>0.183984</td>\n",
       "      <td>0.024657</td>\n",
       "    </tr>\n",
       "    <tr>\n",
       "      <th>1</th>\n",
       "      <td>Запчасти для ноутбуков</td>\n",
       "      <td>1503</td>\n",
       "      <td>0.274952</td>\n",
       "      <td>0.034346</td>\n",
       "    </tr>\n",
       "    <tr>\n",
       "      <th>3</th>\n",
       "      <td>Зарядные устройства и док-станции</td>\n",
       "      <td>2056</td>\n",
       "      <td>0.287772</td>\n",
       "      <td>0.046982</td>\n",
       "    </tr>\n",
       "    <tr>\n",
       "      <th>2</th>\n",
       "      <td>Запчасти для смартфонов</td>\n",
       "      <td>1436</td>\n",
       "      <td>0.324129</td>\n",
       "      <td>0.032815</td>\n",
       "    </tr>\n",
       "    <tr>\n",
       "      <th>8</th>\n",
       "      <td>Материнская плата</td>\n",
       "      <td>1691</td>\n",
       "      <td>0.400719</td>\n",
       "      <td>0.038642</td>\n",
       "    </tr>\n",
       "    <tr>\n",
       "      <th>12</th>\n",
       "      <td>Чехол</td>\n",
       "      <td>4683</td>\n",
       "      <td>0.454290</td>\n",
       "      <td>0.107013</td>\n",
       "    </tr>\n",
       "    <tr>\n",
       "      <th>9</th>\n",
       "      <td>Оперативная память</td>\n",
       "      <td>512</td>\n",
       "      <td>0.496076</td>\n",
       "      <td>0.011700</td>\n",
       "    </tr>\n",
       "    <tr>\n",
       "      <th>11</th>\n",
       "      <td>Смартфоны, планшеты, мобильные телефоны</td>\n",
       "      <td>10810</td>\n",
       "      <td>0.572242</td>\n",
       "      <td>0.247024</td>\n",
       "    </tr>\n",
       "    <tr>\n",
       "      <th>5</th>\n",
       "      <td>Кабели и переходники</td>\n",
       "      <td>4050</td>\n",
       "      <td>0.586324</td>\n",
       "      <td>0.092548</td>\n",
       "    </tr>\n",
       "    <tr>\n",
       "      <th>10</th>\n",
       "      <td>Расходник для печати</td>\n",
       "      <td>4723</td>\n",
       "      <td>0.593027</td>\n",
       "      <td>0.107927</td>\n",
       "    </tr>\n",
       "    <tr>\n",
       "      <th>6</th>\n",
       "      <td>Карты памяти и флешки</td>\n",
       "      <td>638</td>\n",
       "      <td>0.617735</td>\n",
       "      <td>0.014579</td>\n",
       "    </tr>\n",
       "  </tbody>\n",
       "</table>\n",
       "</div>"
      ],
      "text/plain": [
       "                                       name    len      aucs   weights\n",
       "7                                 Компьютер   9745  0.004327  0.222687\n",
       "13                       Электронные модули    730  0.093200  0.016682\n",
       "0           Запчасти для аудио/видеотехники    105  0.142424  0.002399\n",
       "4                  Защитные пленки и стекла   1079  0.183984  0.024657\n",
       "1                    Запчасти для ноутбуков   1503  0.274952  0.034346\n",
       "3         Зарядные устройства и док-станции   2056  0.287772  0.046982\n",
       "2                   Запчасти для смартфонов   1436  0.324129  0.032815\n",
       "8                         Материнская плата   1691  0.400719  0.038642\n",
       "12                                    Чехол   4683  0.454290  0.107013\n",
       "9                        Оперативная память    512  0.496076  0.011700\n",
       "11  Смартфоны, планшеты, мобильные телефоны  10810  0.572242  0.247024\n",
       "5                      Кабели и переходники   4050  0.586324  0.092548\n",
       "10                     Расходник для печати   4723  0.593027  0.107927\n",
       "6                     Карты памяти и флешки    638  0.617735  0.014579"
      ]
     },
     "execution_count": 37,
     "metadata": {},
     "output_type": "execute_result"
    }
   ],
   "source": [
    "results.sort_values('aucs',ascending=True)"
   ]
  },
  {
   "cell_type": "code",
   "execution_count": 332,
   "metadata": {},
   "outputs": [
    {
     "data": {
      "text/plain": [
       "[<matplotlib.lines.Line2D at 0x20112ca48e0>]"
      ]
     },
     "execution_count": 332,
     "metadata": {},
     "output_type": "execute_result"
    },
    {
     "data": {
      "image/png": "[encoded data removed]",
      "text/plain": [
       "<Figure size 640x480 with 1 Axes>"
      ]
     },
     "metadata": {},
     "output_type": "display_data"
    }
   ],
   "source": [
    "plt.plot(results.aucs)\n",
    "plt.plot(results.weights)"
   ]
  },
  {
   "cell_type": "code",
   "execution_count": null,
   "metadata": {},
   "outputs": [],
   "source": [
    "clf.get_all_params()"
   ]
  },
  {
   "cell_type": "code",
   "execution_count": 70,
   "metadata": {},
   "outputs": [
    {
     "name": "stdout",
     "output_type": "stream",
     "text": [
      "              precision    recall  f1-score   support\n",
      "\n",
      "         0.0       0.83      0.79      0.81    110132\n",
      "         1.0       0.84      0.87      0.85    136625\n",
      "\n",
      "    accuracy                           0.83    246757\n",
      "   macro avg       0.83      0.83      0.83    246757\n",
      "weighted avg       0.83      0.83      0.83    246757\n",
      "\n"
     ]
    }
   ],
   "source": [
    "print(classification_report(x_test[target_col], x_test[\"scores\"]>0.5))"
   ]
  },
  {
   "cell_type": "code",
   "execution_count": 68,
   "metadata": {},
   "outputs": [
    {
     "name": "stdout",
     "output_type": "stream",
     "text": [
      "0.8900508279132393\n"
     ]
    },
    {
     "data": {
      "image/png": "[encoded data removed]",
      "text/plain": [
       "<Figure size 1500x700 with 1 Axes>"
      ]
     },
     "metadata": {},
     "output_type": "display_data"
    }
   ],
   "source": [
    "precision, recall, thrs = precision_recall_curve(x_train[target_col]==0, 1-x_train[\"scores\"])\n",
    "#precision1, recall1, thrs1 = precision_recall_curve(x_test[target_col], x_test[\"scores_max\"])\n",
    "pr_auc = auc(recall, precision)\n",
    "print(pr_auc)\n",
    "\n",
    "fig, ax1 = plt.subplots(1, figsize=(15, 7))\n",
    "\n",
    "ax1.plot(recall, precision)\n",
    "#ax1.plot(recall1, precision1)\n",
    "ax1.axhline(y=0.75, color='grey', linestyle='-');"
   ]
  },
  {
   "attachments": {},
   "cell_type": "markdown",
   "metadata": {},
   "source": [
    "SUBMISSION"
   ]
  },
  {
   "cell_type": "code",
   "execution_count": 29,
   "metadata": {},
   "outputs": [],
   "source": [
    "ii=0\n",
    "\n",
    "for _cat in cat3set:     \n",
    "    if best_score_models_learn[ii]<0.45:\n",
    "        test_features.loc[test_features['cat3_grouped']==_cat,'target_cat']=models[ii].predict_proba(test_features[test_features['cat3_grouped']==_cat][all_features_for_model].drop(['cat3_grouped'],axis=1))[:, 1]\n",
    "\n",
    "    ii+=1"
   ]
  },
  {
   "cell_type": "code",
   "execution_count": 30,
   "metadata": {},
   "outputs": [],
   "source": [
    "test_features[\"target1\"] = clf.predict_proba(test_features[all_features_for_model])[:, 1]"
   ]
  },
  {
   "cell_type": "code",
   "execution_count": 31,
   "metadata": {},
   "outputs": [],
   "source": [
    "test_features[\"target2\"] = clf1.predict_proba(test_features[all_features_for_model])[:, 1]"
   ]
  },
  {
   "cell_type": "code",
   "execution_count": 32,
   "metadata": {},
   "outputs": [],
   "source": [
    "test_features['target1']=(test_features['target1']+test_features['target2'])/2"
   ]
  },
  {
   "cell_type": "code",
   "execution_count": null,
   "metadata": {},
   "outputs": [],
   "source": []
  },
  {
   "cell_type": "code",
   "execution_count": 35,
   "metadata": {},
   "outputs": [],
   "source": [
    "test_features['target']=clf_final1.predict_proba(test_features[all_features_for_model])[:, 1]"
   ]
  },
  {
   "cell_type": "code",
   "execution_count": 95,
   "metadata": {},
   "outputs": [],
   "source": [
    "test_features[\"target2\"] = clf_final1.predict_proba(test_features[all_features_for_model])[:, 1]"
   ]
  },
  {
   "cell_type": "code",
   "execution_count": 66,
   "metadata": {},
   "outputs": [],
   "source": [
    "test_features.drop(['target_cat'],axis=1,inplace=True)"
   ]
  },
  {
   "cell_type": "code",
   "execution_count": 41,
   "metadata": {},
   "outputs": [
    {
     "data": {
      "text/html": [
       "<div>\n",
       "<style scoped>\n",
       "    .dataframe tbody tr th:only-of-type {\n",
       "        vertical-align: middle;\n",
       "    }\n",
       "\n",
       "    .dataframe tbody tr th {\n",
       "        vertical-align: top;\n",
       "    }\n",
       "\n",
       "    .dataframe thead th {\n",
       "        text-align: right;\n",
       "    }\n",
       "</style>\n",
       "<table border=\"1\" class=\"dataframe\">\n",
       "  <thead>\n",
       "    <tr style=\"text-align: right;\">\n",
       "      <th></th>\n",
       "      <th>target</th>\n",
       "      <th>target1</th>\n",
       "      <th>target_cat</th>\n",
       "      <th>target_answer</th>\n",
       "      <th>cat3_grouped</th>\n",
       "    </tr>\n",
       "  </thead>\n",
       "  <tbody>\n",
       "    <tr>\n",
       "      <th>1069</th>\n",
       "      <td>0.0</td>\n",
       "      <td>0.039910</td>\n",
       "      <td>0.012289</td>\n",
       "      <td>0.0</td>\n",
       "      <td>Смартфоны, планшеты, мобильные телефоны</td>\n",
       "    </tr>\n",
       "    <tr>\n",
       "      <th>1501</th>\n",
       "      <td>0.0</td>\n",
       "      <td>0.052322</td>\n",
       "      <td>0.043381</td>\n",
       "      <td>0.0</td>\n",
       "      <td>Смартфоны, планшеты, мобильные телефоны</td>\n",
       "    </tr>\n",
       "    <tr>\n",
       "      <th>2508</th>\n",
       "      <td>0.0</td>\n",
       "      <td>0.652167</td>\n",
       "      <td>0.413552</td>\n",
       "      <td>0.0</td>\n",
       "      <td>Расходник для печати</td>\n",
       "    </tr>\n",
       "    <tr>\n",
       "      <th>2625</th>\n",
       "      <td>1.0</td>\n",
       "      <td>0.362964</td>\n",
       "      <td>0.322175</td>\n",
       "      <td>1.0</td>\n",
       "      <td>Смартфоны, планшеты, мобильные телефоны</td>\n",
       "    </tr>\n",
       "    <tr>\n",
       "      <th>2856</th>\n",
       "      <td>0.0</td>\n",
       "      <td>0.054825</td>\n",
       "      <td>0.053263</td>\n",
       "      <td>0.0</td>\n",
       "      <td>Кабели и переходники</td>\n",
       "    </tr>\n",
       "    <tr>\n",
       "      <th>2902</th>\n",
       "      <td>1.0</td>\n",
       "      <td>0.860705</td>\n",
       "      <td>0.810319</td>\n",
       "      <td>1.0</td>\n",
       "      <td>Наушники и гарнитуры</td>\n",
       "    </tr>\n",
       "    <tr>\n",
       "      <th>3209</th>\n",
       "      <td>0.0</td>\n",
       "      <td>0.234507</td>\n",
       "      <td>0.175351</td>\n",
       "      <td>0.0</td>\n",
       "      <td>Смартфоны, планшеты, мобильные телефоны</td>\n",
       "    </tr>\n",
       "    <tr>\n",
       "      <th>3248</th>\n",
       "      <td>0.0</td>\n",
       "      <td>0.068822</td>\n",
       "      <td>0.020156</td>\n",
       "      <td>0.0</td>\n",
       "      <td>Расходник для печати</td>\n",
       "    </tr>\n",
       "    <tr>\n",
       "      <th>3400</th>\n",
       "      <td>0.0</td>\n",
       "      <td>0.106545</td>\n",
       "      <td>0.110693</td>\n",
       "      <td>0.0</td>\n",
       "      <td>Компьютер</td>\n",
       "    </tr>\n",
       "    <tr>\n",
       "      <th>3472</th>\n",
       "      <td>1.0</td>\n",
       "      <td>0.545176</td>\n",
       "      <td>0.615369</td>\n",
       "      <td>1.0</td>\n",
       "      <td>Оптические приборы</td>\n",
       "    </tr>\n",
       "    <tr>\n",
       "      <th>4182</th>\n",
       "      <td>1.0</td>\n",
       "      <td>0.935194</td>\n",
       "      <td>0.942418</td>\n",
       "      <td>1.0</td>\n",
       "      <td>Акустика и колонки</td>\n",
       "    </tr>\n",
       "    <tr>\n",
       "      <th>4213</th>\n",
       "      <td>0.0</td>\n",
       "      <td>0.037789</td>\n",
       "      <td>0.037174</td>\n",
       "      <td>0.0</td>\n",
       "      <td>Компьютер</td>\n",
       "    </tr>\n",
       "    <tr>\n",
       "      <th>4860</th>\n",
       "      <td>0.0</td>\n",
       "      <td>0.864333</td>\n",
       "      <td>0.855742</td>\n",
       "      <td>0.0</td>\n",
       "      <td>Устройство ручного ввода</td>\n",
       "    </tr>\n",
       "    <tr>\n",
       "      <th>5576</th>\n",
       "      <td>0.0</td>\n",
       "      <td>0.060148</td>\n",
       "      <td>0.077385</td>\n",
       "      <td>0.0</td>\n",
       "      <td>Расходник для печати</td>\n",
       "    </tr>\n",
       "    <tr>\n",
       "      <th>6202</th>\n",
       "      <td>0.0</td>\n",
       "      <td>0.035042</td>\n",
       "      <td>0.024597</td>\n",
       "      <td>0.0</td>\n",
       "      <td>Сетевые фильтры, разветвители и удлинители</td>\n",
       "    </tr>\n",
       "    <tr>\n",
       "      <th>6492</th>\n",
       "      <td>1.0</td>\n",
       "      <td>0.746626</td>\n",
       "      <td>0.826283</td>\n",
       "      <td>1.0</td>\n",
       "      <td>Устройство ручного ввода</td>\n",
       "    </tr>\n",
       "    <tr>\n",
       "      <th>7139</th>\n",
       "      <td>1.0</td>\n",
       "      <td>0.777671</td>\n",
       "      <td>0.933476</td>\n",
       "      <td>1.0</td>\n",
       "      <td>Рюкзаки, чехлы, сумки</td>\n",
       "    </tr>\n",
       "    <tr>\n",
       "      <th>7368</th>\n",
       "      <td>0.0</td>\n",
       "      <td>0.025029</td>\n",
       "      <td>0.046042</td>\n",
       "      <td>0.0</td>\n",
       "      <td>Кабели и переходники</td>\n",
       "    </tr>\n",
       "    <tr>\n",
       "      <th>8051</th>\n",
       "      <td>1.0</td>\n",
       "      <td>0.826162</td>\n",
       "      <td>0.947649</td>\n",
       "      <td>1.0</td>\n",
       "      <td>Акустика и колонки</td>\n",
       "    </tr>\n",
       "    <tr>\n",
       "      <th>8141</th>\n",
       "      <td>1.0</td>\n",
       "      <td>0.822660</td>\n",
       "      <td>0.926299</td>\n",
       "      <td>1.0</td>\n",
       "      <td>Акустика и колонки</td>\n",
       "    </tr>\n",
       "    <tr>\n",
       "      <th>8642</th>\n",
       "      <td>1.0</td>\n",
       "      <td>0.906220</td>\n",
       "      <td>0.861488</td>\n",
       "      <td>1.0</td>\n",
       "      <td>ИБП</td>\n",
       "    </tr>\n",
       "    <tr>\n",
       "      <th>9790</th>\n",
       "      <td>0.0</td>\n",
       "      <td>0.148101</td>\n",
       "      <td>0.103661</td>\n",
       "      <td>0.0</td>\n",
       "      <td>Компьютер</td>\n",
       "    </tr>\n",
       "    <tr>\n",
       "      <th>11820</th>\n",
       "      <td>1.0</td>\n",
       "      <td>0.889823</td>\n",
       "      <td>0.839587</td>\n",
       "      <td>1.0</td>\n",
       "      <td>Расходник для печати</td>\n",
       "    </tr>\n",
       "    <tr>\n",
       "      <th>11828</th>\n",
       "      <td>0.0</td>\n",
       "      <td>0.058830</td>\n",
       "      <td>0.055483</td>\n",
       "      <td>0.0</td>\n",
       "      <td>Смартфоны, планшеты, мобильные телефоны</td>\n",
       "    </tr>\n",
       "    <tr>\n",
       "      <th>14122</th>\n",
       "      <td>1.0</td>\n",
       "      <td>0.883839</td>\n",
       "      <td>0.894359</td>\n",
       "      <td>1.0</td>\n",
       "      <td>Кабели и переходники</td>\n",
       "    </tr>\n",
       "    <tr>\n",
       "      <th>14397</th>\n",
       "      <td>0.0</td>\n",
       "      <td>0.246606</td>\n",
       "      <td>0.088723</td>\n",
       "      <td>0.0</td>\n",
       "      <td>Запчасти для ноутбуков</td>\n",
       "    </tr>\n",
       "    <tr>\n",
       "      <th>15610</th>\n",
       "      <td>0.0</td>\n",
       "      <td>0.420451</td>\n",
       "      <td>NaN</td>\n",
       "      <td>0.0</td>\n",
       "      <td>Зарядные устройства и док-станции</td>\n",
       "    </tr>\n",
       "    <tr>\n",
       "      <th>16013</th>\n",
       "      <td>1.0</td>\n",
       "      <td>0.057586</td>\n",
       "      <td>0.083051</td>\n",
       "      <td>1.0</td>\n",
       "      <td>Смартфоны, планшеты, мобильные телефоны</td>\n",
       "    </tr>\n",
       "    <tr>\n",
       "      <th>16051</th>\n",
       "      <td>0.0</td>\n",
       "      <td>0.030424</td>\n",
       "      <td>0.035301</td>\n",
       "      <td>0.0</td>\n",
       "      <td>Кабели и переходники</td>\n",
       "    </tr>\n",
       "    <tr>\n",
       "      <th>16265</th>\n",
       "      <td>1.0</td>\n",
       "      <td>0.962058</td>\n",
       "      <td>0.982437</td>\n",
       "      <td>1.0</td>\n",
       "      <td>Акустика и колонки</td>\n",
       "    </tr>\n",
       "    <tr>\n",
       "      <th>16361</th>\n",
       "      <td>1.0</td>\n",
       "      <td>0.881933</td>\n",
       "      <td>0.888393</td>\n",
       "      <td>1.0</td>\n",
       "      <td>Наушники и гарнитуры</td>\n",
       "    </tr>\n",
       "    <tr>\n",
       "      <th>16573</th>\n",
       "      <td>0.0</td>\n",
       "      <td>0.017236</td>\n",
       "      <td>0.011860</td>\n",
       "      <td>0.0</td>\n",
       "      <td>Смартфоны, планшеты, мобильные телефоны</td>\n",
       "    </tr>\n",
       "    <tr>\n",
       "      <th>16876</th>\n",
       "      <td>0.0</td>\n",
       "      <td>0.056707</td>\n",
       "      <td>0.053605</td>\n",
       "      <td>0.0</td>\n",
       "      <td>Смартфоны, планшеты, мобильные телефоны</td>\n",
       "    </tr>\n",
       "    <tr>\n",
       "      <th>17166</th>\n",
       "      <td>0.0</td>\n",
       "      <td>0.013995</td>\n",
       "      <td>0.026205</td>\n",
       "      <td>0.0</td>\n",
       "      <td>Компьютер</td>\n",
       "    </tr>\n",
       "  </tbody>\n",
       "</table>\n",
       "</div>"
      ],
      "text/plain": [
       "       target   target1  target_cat  target_answer  \\\n",
       "1069      0.0  0.039910    0.012289            0.0   \n",
       "1501      0.0  0.052322    0.043381            0.0   \n",
       "2508      0.0  0.652167    0.413552            0.0   \n",
       "2625      1.0  0.362964    0.322175            1.0   \n",
       "2856      0.0  0.054825    0.053263            0.0   \n",
       "2902      1.0  0.860705    0.810319            1.0   \n",
       "3209      0.0  0.234507    0.175351            0.0   \n",
       "3248      0.0  0.068822    0.020156            0.0   \n",
       "3400      0.0  0.106545    0.110693            0.0   \n",
       "3472      1.0  0.545176    0.615369            1.0   \n",
       "4182      1.0  0.935194    0.942418            1.0   \n",
       "4213      0.0  0.037789    0.037174            0.0   \n",
       "4860      0.0  0.864333    0.855742            0.0   \n",
       "5576      0.0  0.060148    0.077385            0.0   \n",
       "6202      0.0  0.035042    0.024597            0.0   \n",
       "6492      1.0  0.746626    0.826283            1.0   \n",
       "7139      1.0  0.777671    0.933476            1.0   \n",
       "7368      0.0  0.025029    0.046042            0.0   \n",
       "8051      1.0  0.826162    0.947649            1.0   \n",
       "8141      1.0  0.822660    0.926299            1.0   \n",
       "8642      1.0  0.906220    0.861488            1.0   \n",
       "9790      0.0  0.148101    0.103661            0.0   \n",
       "11820     1.0  0.889823    0.839587            1.0   \n",
       "11828     0.0  0.058830    0.055483            0.0   \n",
       "14122     1.0  0.883839    0.894359            1.0   \n",
       "14397     0.0  0.246606    0.088723            0.0   \n",
       "15610     0.0  0.420451         NaN            0.0   \n",
       "16013     1.0  0.057586    0.083051            1.0   \n",
       "16051     0.0  0.030424    0.035301            0.0   \n",
       "16265     1.0  0.962058    0.982437            1.0   \n",
       "16361     1.0  0.881933    0.888393            1.0   \n",
       "16573     0.0  0.017236    0.011860            0.0   \n",
       "16876     0.0  0.056707    0.053605            0.0   \n",
       "17166     0.0  0.013995    0.026205            0.0   \n",
       "\n",
       "                                     cat3_grouped  \n",
       "1069      Смартфоны, планшеты, мобильные телефоны  \n",
       "1501      Смартфоны, планшеты, мобильные телефоны  \n",
       "2508                         Расходник для печати  \n",
       "2625      Смартфоны, планшеты, мобильные телефоны  \n",
       "2856                         Кабели и переходники  \n",
       "2902                         Наушники и гарнитуры  \n",
       "3209      Смартфоны, планшеты, мобильные телефоны  \n",
       "3248                         Расходник для печати  \n",
       "3400                                    Компьютер  \n",
       "3472                           Оптические приборы  \n",
       "4182                           Акустика и колонки  \n",
       "4213                                    Компьютер  \n",
       "4860                     Устройство ручного ввода  \n",
       "5576                         Расходник для печати  \n",
       "6202   Сетевые фильтры, разветвители и удлинители  \n",
       "6492                     Устройство ручного ввода  \n",
       "7139                        Рюкзаки, чехлы, сумки  \n",
       "7368                         Кабели и переходники  \n",
       "8051                           Акустика и колонки  \n",
       "8141                           Акустика и колонки  \n",
       "8642                                          ИБП  \n",
       "9790                                    Компьютер  \n",
       "11820                        Расходник для печати  \n",
       "11828     Смартфоны, планшеты, мобильные телефоны  \n",
       "14122                        Кабели и переходники  \n",
       "14397                      Запчасти для ноутбуков  \n",
       "15610           Зарядные устройства и док-станции  \n",
       "16013     Смартфоны, планшеты, мобильные телефоны  \n",
       "16051                        Кабели и переходники  \n",
       "16265                          Акустика и колонки  \n",
       "16361                        Наушники и гарнитуры  \n",
       "16573     Смартфоны, планшеты, мобильные телефоны  \n",
       "16876     Смартфоны, планшеты, мобильные телефоны  \n",
       "17166                                   Компьютер  "
      ]
     },
     "execution_count": 41,
     "metadata": {},
     "output_type": "execute_result"
    }
   ],
   "source": [
    "test_features[~test_features['target_answer'].isna()][['target','target1','target_cat','target_answer','cat3_grouped']]"
   ]
  },
  {
   "cell_type": "code",
   "execution_count": 39,
   "metadata": {},
   "outputs": [],
   "source": [
    "test_features.loc[~test_features['target_cat'].isna(),'target']=test_features.loc[~test_features['target_cat'].isna(),'target_cat']"
   ]
  },
  {
   "cell_type": "code",
   "execution_count": 40,
   "metadata": {},
   "outputs": [],
   "source": [
    "test_features.loc[~test_features['target_answer'].isna(),'target']=test_features.loc[~test_features['target_answer'].isna(),'target_answer']"
   ]
  },
  {
   "cell_type": "code",
   "execution_count": 28,
   "metadata": {},
   "outputs": [],
   "source": [
    "test_features.drop(['target_answer','target1','target2'],axis=1,inplace=True)"
   ]
  },
  {
   "cell_type": "code",
   "execution_count": 34,
   "metadata": {},
   "outputs": [],
   "source": [
    "test_features=test_features.merge(answer,on=['variantid1','variantid2'],how='left',suffixes=('','_answer'))\n",
    "test_features.loc[~test_features['target_answer'].isna(),'target']=test_features.loc[~test_features['target_answer'].isna(),'target_answer']"
   ]
  },
  {
   "cell_type": "code",
   "execution_count": 85,
   "metadata": {},
   "outputs": [],
   "source": [
    "test_features[['variantid1','variantid2','target']].to_csv('submission_last.csv',index=False)"
   ]
  },
  {
   "cell_type": "code",
   "execution_count": null,
   "metadata": {},
   "outputs": [],
   "source": []
  }
 ],
 "metadata": {
  "kernelspec": {
   "display_name": "Python 3",
   "language": "python",
   "name": "python3"
  },
  "language_info": {
   "codemirror_mode": {
    "name": "ipython",
    "version": 3
   },
   "file_extension": ".py",
   "mimetype": "text/x-python",
   "name": "python",
   "nbconvert_exporter": "python",
   "pygments_lexer": "ipython3",
   "version": "3.10.5"
  },
  "orig_nbformat": 4
 },
 "nbformat": 4,
 "nbformat_minor": 2
}
